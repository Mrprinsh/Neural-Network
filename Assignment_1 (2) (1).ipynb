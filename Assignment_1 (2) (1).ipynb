{
  "cells": [
    {
      "cell_type": "markdown",
      "id": "bb98975f-0c58-47f9-8507-b52b898cb3fe",
      "metadata": {
        "id": "bb98975f-0c58-47f9-8507-b52b898cb3fe"
      },
      "source": [
        "# <u>Part 1: Code Analysis</u>"
      ]
    },
    {
      "cell_type": "markdown",
      "id": "30b9d5e7-eb02-438f-b8e1-e18ab26f192e",
      "metadata": {
        "id": "30b9d5e7-eb02-438f-b8e1-e18ab26f192e"
      },
      "source": [
        "**1. Initialization of Weights and Bias**<br>\n",
        "* **Initialization in the Perceptron class:**"
      ]
    },
    {
      "cell_type": "code",
      "execution_count": null,
      "id": "1bdc4913-0686-445c-9545-5c2b90c82c61",
      "metadata": {
        "id": "1bdc4913-0686-445c-9545-5c2b90c82c61"
      },
      "outputs": [],
      "source": [
        "# self.weight = np.random.rand()  # Single weight for 1 input\n",
        "# self.bias = np.random.rand()  # Initialize bias randomly"
      ]
    },
    {
      "cell_type": "markdown",
      "id": "f232061d-ee67-4d13-8634-5cfa76bee9db",
      "metadata": {
        "id": "f232061d-ee67-4d13-8634-5cfa76bee9db"
      },
      "source": [
        "* The perceptron initializes the weight and bias with random values between 0 and 1.<br>\n",
        "* It also initializes two hyperparameters:<br>\n",
        "    * Learning Rate (learning_rate=0.1): Determines how much to adjust the weights with each update.<br>\n",
        "    * Epochs (epochs=10): Number of times the entire training dataset is used to train the perceptron."
      ]
    },
    {
      "cell_type": "markdown",
      "id": "3dda9971-666e-446f-9e21-8b4e1e6a4188",
      "metadata": {
        "id": "3dda9971-666e-446f-9e21-8b4e1e6a4188"
      },
      "source": [
        "**2. Step Function**<br>\n",
        "The step function serves as the activation function:"
      ]
    },
    {
      "cell_type": "code",
      "execution_count": null,
      "id": "a4aa8206-0869-499a-9a6f-18abfb7c9d4f",
      "metadata": {
        "id": "a4aa8206-0869-499a-9a6f-18abfb7c9d4f"
      },
      "outputs": [],
      "source": [
        "# def step_function(x):\n",
        "#     return 1 if x > 0.5 else 0"
      ]
    },
    {
      "cell_type": "markdown",
      "id": "979ec4ab-442c-47df-8187-6686381defd6",
      "metadata": {
        "id": "979ec4ab-442c-47df-8187-6686381defd6"
      },
      "source": [
        "* It returns 1 if the input is greater than 0.5, otherwise returns 0.<br>\n",
        "* This is a simple binary threshold classifier that helps determine the perceptron's output."
      ]
    },
    {
      "cell_type": "markdown",
      "id": "b268267b-1e9c-421d-bc9c-139c21814543",
      "metadata": {
        "id": "b268267b-1e9c-421d-bc9c-139c21814543"
      },
      "source": [
        "**3. Training Process**<br>\n",
        "The training process involves:<br>"
      ]
    },
    {
      "cell_type": "markdown",
      "id": "8532f390-044f-447f-837f-a6f61226d877",
      "metadata": {
        "id": "8532f390-044f-447f-837f-a6f61226d877"
      },
      "source": [
        "* **`Prediction:`**"
      ]
    },
    {
      "cell_type": "code",
      "execution_count": null,
      "id": "2c6afa85-9925-495c-ab88-7725f95e4540",
      "metadata": {
        "id": "2c6afa85-9925-495c-ab88-7725f95e4540"
      },
      "outputs": [],
      "source": [
        "# prediction = self.predict(X[i])"
      ]
    },
    {
      "cell_type": "markdown",
      "id": "e2d7f261-e506-4d89-b6b5-a34999f5820a",
      "metadata": {
        "id": "e2d7f261-e506-4d89-b6b5-a34999f5820a"
      },
      "source": [
        "* The perceptron calculates a weighted sum of the input plus the bias, then passes it through the step function."
      ]
    },
    {
      "cell_type": "markdown",
      "id": "bfe2d7d5-49e2-427b-9fad-02691758953b",
      "metadata": {
        "id": "bfe2d7d5-49e2-427b-9fad-02691758953b"
      },
      "source": [
        "* **`Error Calculation:`**"
      ]
    },
    {
      "cell_type": "code",
      "execution_count": null,
      "id": "8ce921d6-e1ee-4ec7-a37d-7d31f0cb5a27",
      "metadata": {
        "id": "8ce921d6-e1ee-4ec7-a37d-7d31f0cb5a27"
      },
      "outputs": [],
      "source": [
        "# error = y[i] - prediction"
      ]
    },
    {
      "cell_type": "markdown",
      "id": "e267bd75-23f7-4a51-8030-5086256d3366",
      "metadata": {
        "id": "e267bd75-23f7-4a51-8030-5086256d3366"
      },
      "source": [
        "* The error is calculated as the difference between the actual output and the predicted output."
      ]
    },
    {
      "cell_type": "markdown",
      "id": "28173616-5160-4f45-b8c6-127bc240ac38",
      "metadata": {
        "id": "28173616-5160-4f45-b8c6-127bc240ac38"
      },
      "source": [
        "* **`Weight and Bias Updates:`**"
      ]
    },
    {
      "cell_type": "code",
      "execution_count": null,
      "id": "c1add663-a305-43da-88fb-9a226082b32c",
      "metadata": {
        "id": "c1add663-a305-43da-88fb-9a226082b32c"
      },
      "outputs": [],
      "source": [
        "# self.weight += self.learning_rate * error * X[i]\n",
        "# self.bias += self.learning_rate * error"
      ]
    },
    {
      "cell_type": "markdown",
      "id": "8eefe136-80f9-412b-aa82-9594fcfa80d4",
      "metadata": {
        "id": "8eefe136-80f9-412b-aa82-9594fcfa80d4"
      },
      "source": [
        "* The perceptron adjusts the weights and bias based on the error and the learning rate."
      ]
    },
    {
      "cell_type": "code",
      "execution_count": null,
      "id": "750572c5-b0c8-4dca-abd8-9763a6f2d4e5",
      "metadata": {
        "id": "750572c5-b0c8-4dca-abd8-9763a6f2d4e5"
      },
      "outputs": [],
      "source": []
    },
    {
      "cell_type": "markdown",
      "id": "df38acc5-0677-42d5-8629-d41b8c8c3f91",
      "metadata": {
        "id": "df38acc5-0677-42d5-8629-d41b8c8c3f91"
      },
      "source": [
        "# <u> Part 2: Implement and Run the Code</u>"
      ]
    },
    {
      "cell_type": "code",
      "execution_count": null,
      "id": "d6c5136a-b7d2-4365-9477-ab26e7c57d99",
      "metadata": {
        "id": "d6c5136a-b7d2-4365-9477-ab26e7c57d99",
        "outputId": "2298ed8d-981f-48b1-85a2-c417af21cbbc"
      },
      "outputs": [
        {
          "name": "stdin",
          "output_type": "stream",
          "text": [
            "Enter the first number between 0 and 1:  0.7\n",
            "Enter the second number between 0 and 1:  0.2\n"
          ]
        },
        {
          "name": "stdout",
          "output_type": "stream",
          "text": [
            "Perceptron classification: 0\n"
          ]
        }
      ],
      "source": [
        "import numpy as np\n",
        "\n",
        "# Step function (activation function)\n",
        "def step_function(x):\n",
        "    return 1 if x > 0.5 else 0\n",
        "\n",
        "# Perceptron class for two inputs\n",
        "class Perceptron:\n",
        "    def __init__(self, learning_rate=0.1, epochs=10):\n",
        "        # Initialize weights and bias for two inputs\n",
        "        self.weights = np.random.rand(2)  # Two weights for two inputs\n",
        "        self.bias = np.random.rand()  # Initialize bias randomly\n",
        "        self.learning_rate = learning_rate\n",
        "        self.epochs = epochs\n",
        "\n",
        "    # Predict output for given inputs\n",
        "    def predict(self, x):\n",
        "        linear_output = np.dot(x, self.weights) + self.bias\n",
        "        return step_function(linear_output)\n",
        "\n",
        "    # Train the perceptron\n",
        "    def train(self, X, y):\n",
        "        for epoch in range(self.epochs):\n",
        "            for i in range(len(X)):\n",
        "                prediction = self.predict(X[i])\n",
        "                error = y[i] - prediction\n",
        "                # Update weights and bias\n",
        "                self.weights += self.learning_rate * error * X[i]\n",
        "                self.bias += self.learning_rate * error\n",
        "\n",
        "# Training data: classify pairs (both values > 0.5 => 1, otherwise 0)\n",
        "X = np.array([[0.1, 0.2], [0.4, 0.3], [0.6, 0.8], [0.9, 0.7]])\n",
        "y = np.array([0, 0, 1, 1])  # Expected output\n",
        "\n",
        "# Initialize and train perceptron\n",
        "perceptron = Perceptron()\n",
        "perceptron.train(X, y)\n",
        "\n",
        "# Function to get user input and classify it\n",
        "def user_input_classification():\n",
        "    user_input1 = float(input(\"Enter the first number between 0 and 1: \"))\n",
        "    user_input2 = float(input(\"Enter the second number between 0 and 1: \"))\n",
        "    if 0 <= user_input1 <= 1 and 0 <= user_input2 <= 1:\n",
        "        prediction = perceptron.predict([user_input1, user_input2])\n",
        "        print(f\"Perceptron classification: {prediction}\")\n",
        "    else:\n",
        "        print(\"Please enter numbers between 0 and 1.\")\n",
        "\n",
        "# Classify user input\n",
        "user_input_classification()\n"
      ]
    },
    {
      "cell_type": "markdown",
      "id": "e14d0124-4fd1-41ff-b476-5c9cdfcd14bf",
      "metadata": {
        "id": "e14d0124-4fd1-41ff-b476-5c9cdfcd14bf"
      },
      "source": [
        "**Explanation of Changes:**<br>\n",
        "* Modified the Perceptron class to handle two inputs:<br>\n",
        "    * Changed self.weight to self.weights as a list of two weights.<br>\n",
        "    * Updated the predict method to use the dot product for two inputs.<br>\n",
        "* Adjusted the training dataset to include pairs of values."
      ]
    },
    {
      "cell_type": "code",
      "execution_count": null,
      "id": "b13baa53-a7ec-4c13-84d0-208fa035e19c",
      "metadata": {
        "id": "b13baa53-a7ec-4c13-84d0-208fa035e19c"
      },
      "outputs": [],
      "source": []
    },
    {
      "cell_type": "markdown",
      "id": "2396a79c-edae-4ef0-bed7-1d041db3f22c",
      "metadata": {
        "id": "2396a79c-edae-4ef0-bed7-1d041db3f22c"
      },
      "source": [
        "# <u>Part 3: Modifications and Experimentation<u/>"
      ]
    },
    {
      "cell_type": "markdown",
      "id": "af6171bc-d45d-4a19-9db4-691054dbc98d",
      "metadata": {
        "id": "af6171bc-d45d-4a19-9db4-691054dbc98d"
      },
      "source": [
        "**1. Changing the Learning Rate**<br>\n",
        "* Adjust the learning rate to 0.01 or 0.5:"
      ]
    },
    {
      "cell_type": "code",
      "execution_count": null,
      "id": "c237a05a-a02a-4848-9aa7-610b77931ded",
      "metadata": {
        "id": "c237a05a-a02a-4848-9aa7-610b77931ded"
      },
      "outputs": [],
      "source": [
        "# perceptron = Perceptron(learning_rate=0.01)"
      ]
    },
    {
      "cell_type": "markdown",
      "id": "2780f65a-2064-41cf-81e7-caaaa14e3312",
      "metadata": {
        "id": "2780f65a-2064-41cf-81e7-caaaa14e3312"
      },
      "source": [
        "* Lower Learning Rate (0.01): Slower training but potentially more accurate due to smaller updates.\n",
        "* Higher Learning Rate (0.5): Faster training but might overshoot, leading to less accuracy."
      ]
    },
    {
      "cell_type": "markdown",
      "id": "9d4f778e-052c-4190-a0f1-306627acfe06",
      "metadata": {
        "id": "9d4f778e-052c-4190-a0f1-306627acfe06"
      },
      "source": [
        "**2. Increasing Epochs**<br>\n",
        "increase epochs to 200:"
      ]
    },
    {
      "cell_type": "code",
      "execution_count": null,
      "id": "81ac8bef-95cc-4bf7-b7ad-e4c36e1a3395",
      "metadata": {
        "id": "81ac8bef-95cc-4bf7-b7ad-e4c36e1a3395"
      },
      "outputs": [],
      "source": [
        "# perceptron = Perceptron(learning_rate=0.1, epochs=200)"
      ]
    },
    {
      "cell_type": "markdown",
      "id": "a164222b-b1aa-47c0-b547-66881454bef2",
      "metadata": {
        "id": "a164222b-b1aa-47c0-b547-66881454bef2"
      },
      "source": [
        "* More epochs mean the perceptron has more opportunities to adjust weights and biases, improving accuracy.\n",
        "* However, too many epochs may cause overfitting, especially with a small dataset."
      ]
    },
    {
      "cell_type": "markdown",
      "id": "e4be9115-1074-4926-a2dd-ca23d3d31d08",
      "metadata": {
        "id": "e4be9115-1074-4926-a2dd-ca23d3d31d08"
      },
      "source": [
        "**3. Adding Edge Cases**\n",
        "* Modify the dataset to include edge cases:"
      ]
    },
    {
      "cell_type": "code",
      "execution_count": null,
      "id": "b27e4563-b8a1-426f-b887-8a42398e6576",
      "metadata": {
        "id": "b27e4563-b8a1-426f-b887-8a42398e6576"
      },
      "outputs": [],
      "source": [
        "# X = np.array([[0.01, 0.99], [0.99, 0.01], [0.49, 0.51], [0.5, 0.5], [0.8, 0.8]])\n",
        "# y = np.array([0, 0, 0, 0, 1])"
      ]
    },
    {
      "cell_type": "markdown",
      "id": "d911b8a6-660d-4bb4-854b-f371805b7cd7",
      "metadata": {
        "id": "d911b8a6-660d-4bb4-854b-f371805b7cd7"
      },
      "source": [
        "* This will help test if the perceptron correctly classifies inputs near the decision boundary (0.5 threshold)."
      ]
    },
    {
      "cell_type": "markdown",
      "id": "93b83918-3216-4093-b5bb-a2486617af38",
      "metadata": {
        "id": "93b83918-3216-4093-b5bb-a2486617af38"
      },
      "source": [
        "# <span style=\"color:#3498DB;\">Conclusion<span>"
      ]
    },
    {
      "cell_type": "markdown",
      "id": "1af45828-6dec-441d-94fa-667fb89e8f90",
      "metadata": {
        "id": "1af45828-6dec-441d-94fa-667fb89e8f90"
      },
      "source": [
        "By following the assignment instructions and running the modified code, we should be able to observe how changing the learning rate, increasing epochs, and adjusting the dataset affects the perceptron's performance.<br>\n",
        "This hands-on experimentation is crucial for understanding neural network behavior in binary classification tasks."
      ]
    },
    {
      "cell_type": "code",
      "execution_count": null,
      "id": "2779a4c3-e790-4fa1-9ce6-49eb5ce1f1a0",
      "metadata": {
        "id": "2779a4c3-e790-4fa1-9ce6-49eb5ce1f1a0"
      },
      "outputs": [],
      "source": []
    }
  ],
  "metadata": {
    "kernelspec": {
      "display_name": "Python 3 (ipykernel)",
      "language": "python",
      "name": "python3"
    },
    "language_info": {
      "codemirror_mode": {
        "name": "ipython",
        "version": 3
      },
      "file_extension": ".py",
      "mimetype": "text/x-python",
      "name": "python",
      "nbconvert_exporter": "python",
      "pygments_lexer": "ipython3",
      "version": "3.11.7"
    },
    "colab": {
      "provenance": []
    }
  },
  "nbformat": 4,
  "nbformat_minor": 5
}